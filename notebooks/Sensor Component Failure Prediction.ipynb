{
 "cells": [
  {
   "cell_type": "markdown",
   "id": "bb6693e2",
   "metadata": {},
   "source": [
    "## 1) Problem statement.\n",
    "\n",
    "**Data:** Sensor Data\n",
    "\n",
    "**Problem statement :**\n",
    "- The system in focus is the Air Pressure system (APS) which generates pressurized air that are utilized in various functions in a truck, such as braking and gear changes. The datasets positive class corresponds to component failures for a specific component of the APS system. The negative class corresponds to trucks with failures for components not related to the APS system.\n",
    "\n",
    "- The problem is to reduce the cost due to unnecessary repairs. So it is required to minimize the false predictions."
   ]
  },
  {
   "cell_type": "markdown",
   "id": "90caa5ed",
   "metadata": {},
   "source": [
    "|True class | Positive | Negative | |\n",
    "| ----------- | ----------- |   |  |\n",
    "|<b>Predicted class</b>||| |\n",
    "| Positive      |   -       | cost_1  |    |\n",
    "| Negative   | cost_2        |  | |\n",
    "\n",
    "\n",
    "Cost 1 = 10 and Cost 2 = 500"
   ]
  },
  {
   "cell_type": "markdown",
   "id": "b675b85e",
   "metadata": {},
   "source": [
    "- The total cost of a prediction model the sum of `Cost_1` multiplied by the number of Instances with type 1 failure and `Cost_2` with the number of instances with type 2 failure, resulting in a `Total_cost`. In this case `Cost_1` refers to the cost that an unnessecary check needs to be done by an mechanic at an workshop, while `Cost_2` refer to the cost of missing a faulty truck, which may cause a breakdown. \n",
    "- `Total_cost = Cost_1 * No_Instances + Cost_2 * No_Instances.`"
   ]
  },
  {
   "cell_type": "markdown",
   "id": "cb05c993",
   "metadata": {},
   "source": [
    "- It is done in order to reduce the False Positive (FP) and False Negative (FN)."
   ]
  },
  {
   "cell_type": "markdown",
   "id": "dab2ae17",
   "metadata": {},
   "source": [
    "## 2) Import required libraries"
   ]
  },
  {
   "cell_type": "code",
   "execution_count": 2,
   "id": "aa51c039",
   "metadata": {},
   "outputs": [],
   "source": [
    "import pandas as pd\n",
    "import seaborn as sns\n",
    "import numpy as np\n",
    "from statistics import mean\n",
    "import matplotlib.pyplot as plt\n",
    "import warnings\n",
    "from sklearn.preprocessing import PowerTransformer\n",
    "import numpy as np\n",
    "from sklearn.preprocessing import LabelEncoder\n",
    "from sklearn.pipeline import Pipeline\n",
    "from sklearn.utils import resample\n",
    "\n",
    "from sklearn.linear_model import LogisticRegression\n",
    "from sklearn.ensemble import RandomForestClassifier, AdaBoostClassifier, GradientBoostingClassifier\n",
    "from sklearn.neighbors import KNeighborsClassifier\n",
    "from sklearn.tree import DecisionTreeClassifier\n",
    "from sklearn.svm import SVC\n",
    "from sklearn.metrics import accuracy_score, classification_report,ConfusionMatrixDisplay, \\\n",
    "                            precision_score, recall_score, f1_score, roc_auc_score,roc_curve,confusion_matrix\n",
    "\n",
    "\n",
    "from sklearn import metrics \n",
    "from sklearn.model_selection import  train_test_split, RepeatedStratifiedKFold, cross_val_score\n",
    "from sklearn.preprocessing import OneHotEncoder, MinMaxScaler\n",
    "from sklearn.compose import ColumnTransformer\n",
    "from sklearn.impute import SimpleImputer, KNNImputer\n",
    "from xgboost import XGBClassifier\n",
    "from sklearn.preprocessing import StandardScaler, MinMaxScaler,RobustScaler\n",
    "from sklearn.compose import ColumnTransformer\n",
    "from catboost import CatBoostClassifier\n",
    "\n",
    "warnings.filterwarnings(\"ignore\")\n",
    "%matplotlib inline"
   ]
  },
  {
   "cell_type": "markdown",
   "id": "fc6f0c9c",
   "metadata": {},
   "source": [
    "## Read Data"
   ]
  },
  {
   "cell_type": "code",
   "execution_count": 3,
   "id": "588ad50b",
   "metadata": {},
   "outputs": [],
   "source": [
    "df = pd.read_csv('aps_failure_training_set1.csv',na_values='na')"
   ]
  },
  {
   "cell_type": "code",
   "execution_count": 4,
   "id": "08f80fa1",
   "metadata": {},
   "outputs": [
    {
     "data": {
      "text/html": [
       "<div>\n",
       "<style scoped>\n",
       "    .dataframe tbody tr th:only-of-type {\n",
       "        vertical-align: middle;\n",
       "    }\n",
       "\n",
       "    .dataframe tbody tr th {\n",
       "        vertical-align: top;\n",
       "    }\n",
       "\n",
       "    .dataframe thead th {\n",
       "        text-align: right;\n",
       "    }\n",
       "</style>\n",
       "<table border=\"1\" class=\"dataframe\">\n",
       "  <thead>\n",
       "    <tr style=\"text-align: right;\">\n",
       "      <th></th>\n",
       "      <th>class</th>\n",
       "      <th>aa_000</th>\n",
       "      <th>ab_000</th>\n",
       "      <th>ac_000</th>\n",
       "      <th>ad_000</th>\n",
       "      <th>ae_000</th>\n",
       "      <th>af_000</th>\n",
       "      <th>ag_000</th>\n",
       "      <th>ag_001</th>\n",
       "      <th>ag_002</th>\n",
       "      <th>...</th>\n",
       "      <th>ee_002</th>\n",
       "      <th>ee_003</th>\n",
       "      <th>ee_004</th>\n",
       "      <th>ee_005</th>\n",
       "      <th>ee_006</th>\n",
       "      <th>ee_007</th>\n",
       "      <th>ee_008</th>\n",
       "      <th>ee_009</th>\n",
       "      <th>ef_000</th>\n",
       "      <th>eg_000</th>\n",
       "    </tr>\n",
       "  </thead>\n",
       "  <tbody>\n",
       "    <tr>\n",
       "      <th>0</th>\n",
       "      <td>pos</td>\n",
       "      <td>153204</td>\n",
       "      <td>0.0</td>\n",
       "      <td>182.0</td>\n",
       "      <td>NaN</td>\n",
       "      <td>0.0</td>\n",
       "      <td>0.0</td>\n",
       "      <td>0.0</td>\n",
       "      <td>0.0</td>\n",
       "      <td>0.0</td>\n",
       "      <td>...</td>\n",
       "      <td>129862.0</td>\n",
       "      <td>26872.0</td>\n",
       "      <td>34044.0</td>\n",
       "      <td>22472.0</td>\n",
       "      <td>34362.0</td>\n",
       "      <td>0.0</td>\n",
       "      <td>0.0</td>\n",
       "      <td>0.0</td>\n",
       "      <td>0.0</td>\n",
       "      <td>0.0</td>\n",
       "    </tr>\n",
       "    <tr>\n",
       "      <th>1</th>\n",
       "      <td>pos</td>\n",
       "      <td>453236</td>\n",
       "      <td>NaN</td>\n",
       "      <td>2926.0</td>\n",
       "      <td>NaN</td>\n",
       "      <td>0.0</td>\n",
       "      <td>0.0</td>\n",
       "      <td>0.0</td>\n",
       "      <td>0.0</td>\n",
       "      <td>222.0</td>\n",
       "      <td>...</td>\n",
       "      <td>7908038.0</td>\n",
       "      <td>3026002.0</td>\n",
       "      <td>5025350.0</td>\n",
       "      <td>2025766.0</td>\n",
       "      <td>1160638.0</td>\n",
       "      <td>533834.0</td>\n",
       "      <td>493800.0</td>\n",
       "      <td>6914.0</td>\n",
       "      <td>0.0</td>\n",
       "      <td>0.0</td>\n",
       "    </tr>\n",
       "    <tr>\n",
       "      <th>2</th>\n",
       "      <td>pos</td>\n",
       "      <td>72504</td>\n",
       "      <td>NaN</td>\n",
       "      <td>1594.0</td>\n",
       "      <td>1052.0</td>\n",
       "      <td>0.0</td>\n",
       "      <td>0.0</td>\n",
       "      <td>0.0</td>\n",
       "      <td>244.0</td>\n",
       "      <td>178226.0</td>\n",
       "      <td>...</td>\n",
       "      <td>1432098.0</td>\n",
       "      <td>372252.0</td>\n",
       "      <td>527514.0</td>\n",
       "      <td>358274.0</td>\n",
       "      <td>332818.0</td>\n",
       "      <td>284178.0</td>\n",
       "      <td>3742.0</td>\n",
       "      <td>0.0</td>\n",
       "      <td>0.0</td>\n",
       "      <td>0.0</td>\n",
       "    </tr>\n",
       "    <tr>\n",
       "      <th>3</th>\n",
       "      <td>pos</td>\n",
       "      <td>762958</td>\n",
       "      <td>NaN</td>\n",
       "      <td>NaN</td>\n",
       "      <td>NaN</td>\n",
       "      <td>NaN</td>\n",
       "      <td>NaN</td>\n",
       "      <td>776.0</td>\n",
       "      <td>281128.0</td>\n",
       "      <td>2186308.0</td>\n",
       "      <td>...</td>\n",
       "      <td>NaN</td>\n",
       "      <td>NaN</td>\n",
       "      <td>NaN</td>\n",
       "      <td>NaN</td>\n",
       "      <td>NaN</td>\n",
       "      <td>NaN</td>\n",
       "      <td>NaN</td>\n",
       "      <td>NaN</td>\n",
       "      <td>NaN</td>\n",
       "      <td>NaN</td>\n",
       "    </tr>\n",
       "    <tr>\n",
       "      <th>4</th>\n",
       "      <td>pos</td>\n",
       "      <td>695994</td>\n",
       "      <td>NaN</td>\n",
       "      <td>NaN</td>\n",
       "      <td>NaN</td>\n",
       "      <td>NaN</td>\n",
       "      <td>NaN</td>\n",
       "      <td>0.0</td>\n",
       "      <td>0.0</td>\n",
       "      <td>0.0</td>\n",
       "      <td>...</td>\n",
       "      <td>1397742.0</td>\n",
       "      <td>495544.0</td>\n",
       "      <td>361646.0</td>\n",
       "      <td>28610.0</td>\n",
       "      <td>5130.0</td>\n",
       "      <td>212.0</td>\n",
       "      <td>0.0</td>\n",
       "      <td>0.0</td>\n",
       "      <td>NaN</td>\n",
       "      <td>NaN</td>\n",
       "    </tr>\n",
       "    <tr>\n",
       "      <th>5</th>\n",
       "      <td>pos</td>\n",
       "      <td>1056758</td>\n",
       "      <td>0.0</td>\n",
       "      <td>42328.0</td>\n",
       "      <td>856.0</td>\n",
       "      <td>0.0</td>\n",
       "      <td>0.0</td>\n",
       "      <td>0.0</td>\n",
       "      <td>50394.0</td>\n",
       "      <td>184552.0</td>\n",
       "      <td>...</td>\n",
       "      <td>1450086.0</td>\n",
       "      <td>713608.0</td>\n",
       "      <td>1750894.0</td>\n",
       "      <td>4054554.0</td>\n",
       "      <td>4096660.0</td>\n",
       "      <td>2295880.0</td>\n",
       "      <td>220478.0</td>\n",
       "      <td>482.0</td>\n",
       "      <td>0.0</td>\n",
       "      <td>0.0</td>\n",
       "    </tr>\n",
       "    <tr>\n",
       "      <th>6</th>\n",
       "      <td>pos</td>\n",
       "      <td>361638</td>\n",
       "      <td>0.0</td>\n",
       "      <td>280.0</td>\n",
       "      <td>NaN</td>\n",
       "      <td>0.0</td>\n",
       "      <td>0.0</td>\n",
       "      <td>0.0</td>\n",
       "      <td>0.0</td>\n",
       "      <td>0.0</td>\n",
       "      <td>...</td>\n",
       "      <td>266410.0</td>\n",
       "      <td>114746.0</td>\n",
       "      <td>180006.0</td>\n",
       "      <td>108294.0</td>\n",
       "      <td>111218.0</td>\n",
       "      <td>264410.0</td>\n",
       "      <td>33734.0</td>\n",
       "      <td>0.0</td>\n",
       "      <td>0.0</td>\n",
       "      <td>0.0</td>\n",
       "    </tr>\n",
       "    <tr>\n",
       "      <th>7</th>\n",
       "      <td>pos</td>\n",
       "      <td>791254</td>\n",
       "      <td>NaN</td>\n",
       "      <td>NaN</td>\n",
       "      <td>NaN</td>\n",
       "      <td>NaN</td>\n",
       "      <td>NaN</td>\n",
       "      <td>0.0</td>\n",
       "      <td>14868.0</td>\n",
       "      <td>921256.0</td>\n",
       "      <td>...</td>\n",
       "      <td>3625532.0</td>\n",
       "      <td>1380864.0</td>\n",
       "      <td>3262488.0</td>\n",
       "      <td>5727988.0</td>\n",
       "      <td>7563752.0</td>\n",
       "      <td>12114820.0</td>\n",
       "      <td>264714.0</td>\n",
       "      <td>198.0</td>\n",
       "      <td>NaN</td>\n",
       "      <td>NaN</td>\n",
       "    </tr>\n",
       "    <tr>\n",
       "      <th>8</th>\n",
       "      <td>pos</td>\n",
       "      <td>1053152</td>\n",
       "      <td>NaN</td>\n",
       "      <td>NaN</td>\n",
       "      <td>NaN</td>\n",
       "      <td>NaN</td>\n",
       "      <td>NaN</td>\n",
       "      <td>2.0</td>\n",
       "      <td>2.0</td>\n",
       "      <td>30.0</td>\n",
       "      <td>...</td>\n",
       "      <td>7093206.0</td>\n",
       "      <td>3379622.0</td>\n",
       "      <td>7362340.0</td>\n",
       "      <td>8442584.0</td>\n",
       "      <td>8120144.0</td>\n",
       "      <td>5082396.0</td>\n",
       "      <td>6259760.0</td>\n",
       "      <td>176752.0</td>\n",
       "      <td>NaN</td>\n",
       "      <td>NaN</td>\n",
       "    </tr>\n",
       "    <tr>\n",
       "      <th>9</th>\n",
       "      <td>pos</td>\n",
       "      <td>785270</td>\n",
       "      <td>NaN</td>\n",
       "      <td>NaN</td>\n",
       "      <td>8994.0</td>\n",
       "      <td>NaN</td>\n",
       "      <td>NaN</td>\n",
       "      <td>0.0</td>\n",
       "      <td>0.0</td>\n",
       "      <td>0.0</td>\n",
       "      <td>...</td>\n",
       "      <td>0.0</td>\n",
       "      <td>0.0</td>\n",
       "      <td>0.0</td>\n",
       "      <td>0.0</td>\n",
       "      <td>0.0</td>\n",
       "      <td>0.0</td>\n",
       "      <td>0.0</td>\n",
       "      <td>0.0</td>\n",
       "      <td>NaN</td>\n",
       "      <td>NaN</td>\n",
       "    </tr>\n",
       "  </tbody>\n",
       "</table>\n",
       "<p>10 rows × 171 columns</p>\n",
       "</div>"
      ],
      "text/plain": [
       "  class   aa_000  ab_000   ac_000  ad_000  ae_000  af_000  ag_000    ag_001  \\\n",
       "0   pos   153204     0.0    182.0     NaN     0.0     0.0     0.0       0.0   \n",
       "1   pos   453236     NaN   2926.0     NaN     0.0     0.0     0.0       0.0   \n",
       "2   pos    72504     NaN   1594.0  1052.0     0.0     0.0     0.0     244.0   \n",
       "3   pos   762958     NaN      NaN     NaN     NaN     NaN   776.0  281128.0   \n",
       "4   pos   695994     NaN      NaN     NaN     NaN     NaN     0.0       0.0   \n",
       "5   pos  1056758     0.0  42328.0   856.0     0.0     0.0     0.0   50394.0   \n",
       "6   pos   361638     0.0    280.0     NaN     0.0     0.0     0.0       0.0   \n",
       "7   pos   791254     NaN      NaN     NaN     NaN     NaN     0.0   14868.0   \n",
       "8   pos  1053152     NaN      NaN     NaN     NaN     NaN     2.0       2.0   \n",
       "9   pos   785270     NaN      NaN  8994.0     NaN     NaN     0.0       0.0   \n",
       "\n",
       "      ag_002  ...     ee_002     ee_003     ee_004     ee_005     ee_006  \\\n",
       "0        0.0  ...   129862.0    26872.0    34044.0    22472.0    34362.0   \n",
       "1      222.0  ...  7908038.0  3026002.0  5025350.0  2025766.0  1160638.0   \n",
       "2   178226.0  ...  1432098.0   372252.0   527514.0   358274.0   332818.0   \n",
       "3  2186308.0  ...        NaN        NaN        NaN        NaN        NaN   \n",
       "4        0.0  ...  1397742.0   495544.0   361646.0    28610.0     5130.0   \n",
       "5   184552.0  ...  1450086.0   713608.0  1750894.0  4054554.0  4096660.0   \n",
       "6        0.0  ...   266410.0   114746.0   180006.0   108294.0   111218.0   \n",
       "7   921256.0  ...  3625532.0  1380864.0  3262488.0  5727988.0  7563752.0   \n",
       "8       30.0  ...  7093206.0  3379622.0  7362340.0  8442584.0  8120144.0   \n",
       "9        0.0  ...        0.0        0.0        0.0        0.0        0.0   \n",
       "\n",
       "       ee_007     ee_008    ee_009  ef_000  eg_000  \n",
       "0         0.0        0.0       0.0     0.0     0.0  \n",
       "1    533834.0   493800.0    6914.0     0.0     0.0  \n",
       "2    284178.0     3742.0       0.0     0.0     0.0  \n",
       "3         NaN        NaN       NaN     NaN     NaN  \n",
       "4       212.0        0.0       0.0     NaN     NaN  \n",
       "5   2295880.0   220478.0     482.0     0.0     0.0  \n",
       "6    264410.0    33734.0       0.0     0.0     0.0  \n",
       "7  12114820.0   264714.0     198.0     NaN     NaN  \n",
       "8   5082396.0  6259760.0  176752.0     NaN     NaN  \n",
       "9         0.0        0.0       0.0     NaN     NaN  \n",
       "\n",
       "[10 rows x 171 columns]"
      ]
     },
     "execution_count": 4,
     "metadata": {},
     "output_type": "execute_result"
    }
   ],
   "source": [
    "df.head(10)"
   ]
  },
  {
   "cell_type": "code",
   "execution_count": 5,
   "id": "67c8dce0",
   "metadata": {},
   "outputs": [
    {
     "data": {
      "text/plain": [
       "(36188, 171)"
      ]
     },
     "execution_count": 5,
     "metadata": {},
     "output_type": "execute_result"
    }
   ],
   "source": [
    "# checking the shape (count of rows and columns) of the dataset\n",
    "df.shape"
   ]
  },
  {
   "cell_type": "code",
   "execution_count": 6,
   "id": "c4982789",
   "metadata": {},
   "outputs": [
    {
     "data": {
      "text/plain": [
       "class\n",
       "neg    35188\n",
       "pos     1000\n",
       "Name: count, dtype: int64"
      ]
     },
     "execution_count": 6,
     "metadata": {},
     "output_type": "execute_result"
    }
   ],
   "source": [
    "#check the unique values of target variable (binary classification)\n",
    "\n",
    "df['class'].value_counts()"
   ]
  },
  {
   "cell_type": "code",
   "execution_count": 7,
   "id": "9bdeb510",
   "metadata": {},
   "outputs": [
    {
     "name": "stdout",
     "output_type": "stream",
     "text": [
      "We have 170 numerical features: ['aa_000', 'ab_000', 'ac_000', 'ad_000', 'ae_000', 'af_000', 'ag_000', 'ag_001', 'ag_002', 'ag_003', 'ag_004', 'ag_005', 'ag_006', 'ag_007', 'ag_008', 'ag_009', 'ah_000', 'ai_000', 'aj_000', 'ak_000', 'al_000', 'am_0', 'an_000', 'ao_000', 'ap_000', 'aq_000', 'ar_000', 'as_000', 'at_000', 'au_000', 'av_000', 'ax_000', 'ay_000', 'ay_001', 'ay_002', 'ay_003', 'ay_004', 'ay_005', 'ay_006', 'ay_007', 'ay_008', 'ay_009', 'az_000', 'az_001', 'az_002', 'az_003', 'az_004', 'az_005', 'az_006', 'az_007', 'az_008', 'az_009', 'ba_000', 'ba_001', 'ba_002', 'ba_003', 'ba_004', 'ba_005', 'ba_006', 'ba_007', 'ba_008', 'ba_009', 'bb_000', 'bc_000', 'bd_000', 'be_000', 'bf_000', 'bg_000', 'bh_000', 'bi_000', 'bj_000', 'bk_000', 'bl_000', 'bm_000', 'bn_000', 'bo_000', 'bp_000', 'bq_000', 'br_000', 'bs_000', 'bt_000', 'bu_000', 'bv_000', 'bx_000', 'by_000', 'bz_000', 'ca_000', 'cb_000', 'cc_000', 'cd_000', 'ce_000', 'cf_000', 'cg_000', 'ch_000', 'ci_000', 'cj_000', 'ck_000', 'cl_000', 'cm_000', 'cn_000', 'cn_001', 'cn_002', 'cn_003', 'cn_004', 'cn_005', 'cn_006', 'cn_007', 'cn_008', 'cn_009', 'co_000', 'cp_000', 'cq_000', 'cr_000', 'cs_000', 'cs_001', 'cs_002', 'cs_003', 'cs_004', 'cs_005', 'cs_006', 'cs_007', 'cs_008', 'cs_009', 'ct_000', 'cu_000', 'cv_000', 'cx_000', 'cy_000', 'cz_000', 'da_000', 'db_000', 'dc_000', 'dd_000', 'de_000', 'df_000', 'dg_000', 'dh_000', 'di_000', 'dj_000', 'dk_000', 'dl_000', 'dm_000', 'dn_000', 'do_000', 'dp_000', 'dq_000', 'dr_000', 'ds_000', 'dt_000', 'du_000', 'dv_000', 'dx_000', 'dy_000', 'dz_000', 'ea_000', 'eb_000', 'ec_00', 'ed_000', 'ee_000', 'ee_001', 'ee_002', 'ee_003', 'ee_004', 'ee_005', 'ee_006', 'ee_007', 'ee_008', 'ee_009', 'ef_000', 'eg_000']\n",
      "\n",
      "We have 1 categorical features: ['class']\n"
     ]
    }
   ],
   "source": [
    "# Define the numerical and categorical columns from the dataset\n",
    "numerical_features = [feature for feature in df.columns if df[feature].dtype != 'O']\n",
    "\n",
    "categorical_features = [feature for feature in df.columns if df[feature].dtype == 'O']\n",
    "\n",
    "# Print the numerical and categorical columns\n",
    "print('We have {} numerical features: {}'.format(len(numerical_features), numerical_features))\n",
    "print('\\nWe have {} categorical features: {}'.format(len(categorical_features), categorical_features))\n"
   ]
  },
  {
   "cell_type": "markdown",
   "id": "5ae320c7",
   "metadata": {},
   "source": [
    "##### As this is a sensor data. Interpretation of the data is not required"
   ]
  },
  {
   "cell_type": "markdown",
   "id": "064bb4f3",
   "metadata": {},
   "source": [
    "## Check Missing Values"
   ]
  },
  {
   "cell_type": "code",
   "execution_count": 8,
   "id": "fc79ccc9",
   "metadata": {},
   "outputs": [
    {
     "data": {
      "text/plain": [
       "class         0\n",
       "aa_000        0\n",
       "ab_000    27896\n",
       "ac_000     2141\n",
       "ad_000     9200\n",
       "          ...  \n",
       "ee_007      379\n",
       "ee_008      379\n",
       "ee_009      379\n",
       "ef_000     1730\n",
       "eg_000     1729\n",
       "Length: 171, dtype: int64"
      ]
     },
     "execution_count": 8,
     "metadata": {},
     "output_type": "execute_result"
    }
   ],
   "source": [
    "df.isna().sum()"
   ]
  },
  {
   "cell_type": "code",
   "execution_count": 9,
   "id": "44041d3a",
   "metadata": {},
   "outputs": [
    {
     "data": {
      "image/png": "[encoded data removed]",
      "text/plain": [
       "<Figure size 2000x1500 with 1 Axes>"
      ]
     },
     "metadata": {},
     "output_type": "display_data"
    }
   ],
   "source": [
    "# plot missing values count for each of the columns\n",
    "\n",
    "fig, ax = plt.subplots(figsize = (20,15))\n",
    "\n",
    "missing = df.isna().sum().div(df.shape[0]).mul(100).to_frame().sort_values(by=0, ascending = False)\n",
    "\n",
    "ax.bar(missing.index, missing.values.T[0])\n",
    "plt.xticks([])\n",
    "plt.ylabel('Percentage Missing')\n",
    "plt.show()"
   ]
  },
  {
   "cell_type": "markdown",
   "id": "ef1e871c",
   "metadata": {},
   "source": [
    "Here we can see that there are a lot of missing values present in each of the columns."
   ]
  },
  {
   "cell_type": "markdown",
   "id": "604060e9",
   "metadata": {},
   "source": [
    "## Drop those columns which has more than 70% of missing values"
   ]
  },
  {
   "cell_type": "code",
   "execution_count": 10,
   "id": "3a53600e",
   "metadata": {},
   "outputs": [
    {
     "data": {
      "text/html": [
       "<div>\n",
       "<style scoped>\n",
       "    .dataframe tbody tr th:only-of-type {\n",
       "        vertical-align: middle;\n",
       "    }\n",
       "\n",
       "    .dataframe tbody tr th {\n",
       "        vertical-align: top;\n",
       "    }\n",
       "\n",
       "    .dataframe thead th {\n",
       "        text-align: right;\n",
       "    }\n",
       "</style>\n",
       "<table border=\"1\" class=\"dataframe\">\n",
       "  <thead>\n",
       "    <tr style=\"text-align: right;\">\n",
       "      <th></th>\n",
       "      <th>0</th>\n",
       "    </tr>\n",
       "  </thead>\n",
       "  <tbody>\n",
       "    <tr>\n",
       "      <th>br_000</th>\n",
       "      <td>81.410965</td>\n",
       "    </tr>\n",
       "    <tr>\n",
       "      <th>bq_000</th>\n",
       "      <td>80.501824</td>\n",
       "    </tr>\n",
       "    <tr>\n",
       "      <th>bp_000</th>\n",
       "      <td>78.794075</td>\n",
       "    </tr>\n",
       "    <tr>\n",
       "      <th>ab_000</th>\n",
       "      <td>77.086327</td>\n",
       "    </tr>\n",
       "    <tr>\n",
       "      <th>cr_000</th>\n",
       "      <td>77.086327</td>\n",
       "    </tr>\n",
       "    <tr>\n",
       "      <th>bo_000</th>\n",
       "      <td>76.533658</td>\n",
       "    </tr>\n",
       "    <tr>\n",
       "      <th>bn_000</th>\n",
       "      <td>72.761689</td>\n",
       "    </tr>\n",
       "  </tbody>\n",
       "</table>\n",
       "</div>"
      ],
      "text/plain": [
       "                0\n",
       "br_000  81.410965\n",
       "bq_000  80.501824\n",
       "bp_000  78.794075\n",
       "ab_000  77.086327\n",
       "cr_000  77.086327\n",
       "bo_000  76.533658\n",
       "bn_000  72.761689"
      ]
     },
     "execution_count": 10,
     "metadata": {},
     "output_type": "execute_result"
    }
   ],
   "source": [
    "# Drop those columns which has more than 70% of missing values\n",
    "\n",
    "drop_cols = missing[missing[0]>70]\n",
    "drop_cols"
   ]
  },
  {
   "cell_type": "code",
   "execution_count": 11,
   "id": "fce11190",
   "metadata": {},
   "outputs": [],
   "source": [
    "df.drop(list(drop_cols.index), axis = 1, inplace= True)"
   ]
  },
  {
   "cell_type": "markdown",
   "id": "a522ade5",
   "metadata": {},
   "source": [
    "Now you can see that 7 columns has been dropped."
   ]
  },
  {
   "cell_type": "code",
   "execution_count": 12,
   "id": "a3ff2d3b",
   "metadata": {},
   "outputs": [
    {
     "data": {
      "text/plain": [
       "(36188, 164)"
      ]
     },
     "execution_count": 12,
     "metadata": {},
     "output_type": "execute_result"
    }
   ],
   "source": [
    "df.shape"
   ]
  },
  {
   "cell_type": "markdown",
   "id": "9ab2afd1",
   "metadata": {},
   "source": [
    "the columns count has been dropped from 171 -> 164."
   ]
  },
  {
   "cell_type": "markdown",
   "id": "bb29820f",
   "metadata": {},
   "source": [
    "### Check the total percentage of missing values of full dataset after dropping columns with more than 70% of missing values"
   ]
  },
  {
   "cell_type": "code",
   "execution_count": 13,
   "id": "16e981e6",
   "metadata": {},
   "outputs": [
    {
     "name": "stdout",
     "output_type": "stream",
     "text": [
      "Percentage of total missing cells in the data 5.37059852747306%\n"
     ]
    }
   ],
   "source": [
    "missing_values_count = df.isnull().sum()\n",
    "total_cells = np.product(df.shape)\n",
    "total_missing = missing_values_count.sum()\n",
    "\n",
    "#percent of data that is missing\n",
    "print(f'Percentage of total missing cells in the data {(total_missing/total_cells) * 100}%')"
   ]
  },
  {
   "cell_type": "code",
   "execution_count": 14,
   "id": "88ef2b1c",
   "metadata": {},
   "outputs": [
    {
     "data": {
      "image/png": "[encoded data removed]",
      "text/plain": [
       "<Figure size 500x500 with 1 Axes>"
      ]
     },
     "metadata": {},
     "output_type": "display_data"
    },
    {
     "name": "stdout",
     "output_type": "stream",
     "text": [
      "Positive: 1000, Negative: 35188\n"
     ]
    }
   ],
   "source": [
    "## Visualisation of unique Values in the Target Variable 'class'\n",
    "\n",
    "pos = df[df['class']== 'pos'].shape[0]\n",
    "neg = df[df['class']== 'neg'].shape[0]\n",
    "\n",
    "sns.catplot(data= df, x='class', kind='count', palette = 'winter_r', alpha=0.6)\n",
    "plt.show()\n",
    "\n",
    "print('Positive: '+str(pos) + ', Negative: '+str(neg))"
   ]
  },
  {
   "cell_type": "markdown",
   "id": "d60169e1",
   "metadata": {},
   "source": [
    "Here, we can see that there is an imbalanced data"
   ]
  },
  {
   "cell_type": "markdown",
   "id": "69674190",
   "metadata": {},
   "source": [
    "**Report**\n",
    "- The target classes are highly imbalanced\n",
    "- Class imbalance is a scenario that arises when we have unequal distribution of class in a dataset i.e. the no. of data points in the negative class (majority class) very large compared to that of the positive class (minority class)\n",
    "- If the imbalanced data is not treated beforehand, then this will degrade the performance of the classifier model. "
   ]
  },
  {
   "cell_type": "markdown",
   "id": "23315bc8",
   "metadata": {},
   "source": [
    "**How to handle Imbalance Data ?**\n",
    "\n",
    "- Resampling data is one of the most commonly preferred approaches to deal with an imbalanced dataset. There are broadly two types of methods for this i) Undersampling ii) Oversampling. In most cases, oversampling is preferred over undersampling techniques. The reason being, in undersampling we tend to remove instances from data that may be carrying some important information.\n",
    "- **SMOTE:** Synthetic Minority Oversampling Technique\n",
    "- SMOTE is an oversampling technique where the synthetic samples are generated for the minority class.\n",
    "- Hybridization techniques involve combining both undersampling and oversampling techniques. This is done to optimize the performance of classifier models for the samples created as part of these techniques.\n",
    "- It only duplicates the data and it won't add and new information. Hence we look at some different techniques."
   ]
  },
  {
   "cell_type": "markdown",
   "id": "9dce9fce",
   "metadata": {},
   "source": [
    "## Create Functions for model training and evaluation"
   ]
  },
  {
   "cell_type": "code",
   "execution_count": 15,
   "id": "4a2857fc",
   "metadata": {},
   "outputs": [],
   "source": [
    "def evaluate_clf(true, predicted):\n",
    "    \n",
    "    '''\n",
    "    This function takes the true value (y_true) and predicted value (y_pred)\n",
    "    and returns the measure of Evaluation metrics such as accuracy, f1-score, precision, recall, roc_auc\n",
    "    '''\n",
    "    \n",
    "    acc = accuracy_score(true, predicted) # calculating the Accuracy of the model\n",
    "    f1 = f1_score(true, predicted) # calculating the F1 score\n",
    "    precision = precision_score(true, predicted) # calculating the precision score\n",
    "    recall = recall_score(true, predicted) # calculating the recall \n",
    "    roc_auc = roc_auc_score(true, predicted) # calculate the ROC and AUC value\n",
    "    \n",
    "    return acc, f1, precision, recall, roc_auc"
   ]
  },
  {
   "cell_type": "code",
   "execution_count": 16,
   "id": "e2b1f90c",
   "metadata": {},
   "outputs": [],
   "source": [
    "def total_cost(y_true, y_pred):\n",
    "    '''\n",
    "    it takes y_true, y_pred and prints Total cost due to misclassification\n",
    "    '''\n",
    "    tn, fp, fn, tp = confusion_matrix(y_true, y_pred).ravel()\n",
    "    cost = 10 * fp + 500 * fn\n",
    "    return cost"
   ]
  },
  {
   "cell_type": "markdown",
   "id": "b2b17a10",
   "metadata": {},
   "source": [
    "#### what does ravel() do?\n",
    "\n",
    "- The ravel() function in NumPy is used to flatten multi-dimensional arrays into a one-dimensional array. \n",
    "- When applied to a multi-dimensional array, ravel() returns a flattened view of the array, meaning it returns a new array that contains the same data as the original array but reshaped into a one-dimensional array.\n",
    "- In the context of confusion matrices in scikit-learn, the confusion matrix is typically a 2x2 array where rows represent actual classes and columns represent predicted classes.\n",
    "- When you apply ravel() to the confusion matrix obtained from confusion_matrix(), it flattens this 2x2 array into a one-dimensional array, resulting in an array with the counts of TN, FP, FN, and TP."
   ]
  },
  {
   "cell_type": "code",
   "execution_count": 17,
   "id": "1e184c53",
   "metadata": {},
   "outputs": [],
   "source": [
    "# create a function which can evaluate models and return a report summary\n",
    "\n",
    "def evaluation_models(X, y, models):\n",
    "    \n",
    "    # split the dataset into train and test\n",
    "    X_train, X_test, Y_train, Y_test = train_test_split(X,y,test_size=0.2,random_state=42)\n",
    "    \n",
    "    # creating an empty array\n",
    "    cost_list = []\n",
    "    models_list = []\n",
    "    accuracy_list =[]\n",
    "    \n",
    "    for i in range(len(list(models))):\n",
    "        model = list(models.values())[i]\n",
    "        model.fit(X_train, Y_train) # training the model\n",
    "        \n",
    "        # Make the prediction\n",
    "        y_train_pred = model.predict(X_train)\n",
    "        y_test_pred = model.predict(X_test)\n",
    "        \n",
    "        # Training set performance\n",
    "        model_train_accuracy, model_train_f1, model_train_precision,\\\n",
    "        model_train_recall, model_train_roc_auc_score = evaluate_clf(Y_train, Y_train_pred)\n",
    "        train_cost = total_cost(Y_train, Y_train_pred)\n",
    "        \n",
    "        # Testing set performnace \n",
    "        model_test_accuracy, model_test_f1, model_test_precision,\\\n",
    "        model_test_recall, model_test_roc_auc_score = evaluate_clf(Y_test, Y_test_pred)\n",
    "        test_cost = total_cost(Y_test, Y_test_pred)\n",
    "        \n",
    "        print(list(model.keys())[i])\n",
    "        model_list.append(list(models.keys())[i])\n",
    "        \n",
    "        print('Model performance for Training set')\n",
    "        print(\"- Accuracy: {:.4f}\".format(model_train_accuracy))\n",
    "        print('- F1 score: {:.4f}'.format(model_train_f1)) \n",
    "        print('- Precision: {:.4f}'.format(model_train_precision))\n",
    "        print('- Recall: {:.4f}'.format(model_train_recall))\n",
    "        print('- Roc Auc Score: {:.4f}'.format(model_train_rocauc_score))\n",
    "        print(f'- COST: {train_cost}.')\n",
    "\n",
    "        print('----------------------------------')\n",
    "\n",
    "        print('Model performance for Test set')\n",
    "        print('- Accuracy: {:.4f}'.format(model_test_accuracy))\n",
    "        print('- F1 score: {:.4f}'.format(model_test_f1))\n",
    "        print('- Precision: {:.4f}'.format(model_test_precision))\n",
    "        print('- Recall: {:.4f}'.format(model_test_recall))\n",
    "        print('- Roc Auc Score: {:.4f}'.format(model_test_rocauc_score))\n",
    "        print(f'- COST: {test_cost}.')\n",
    "        cost_list.append(test_cost)\n",
    "        print('='*35)\n",
    "        print('\\n')\n",
    "        \n",
    "    report = pd.DataFrame(list(zip(model_list, cost_list)))\n",
    "    \n",
    "    return report   "
   ]
  },
  {
   "cell_type": "markdown",
   "id": "64079e2a",
   "metadata": {},
   "source": [
    "### Plot  distribution of all Independent Numerical variables"
   ]
  },
  {
   "cell_type": "code",
   "execution_count": 18,
   "id": "1e1eafa5",
   "metadata": {},
   "outputs": [
    {
     "data": {
      "text/plain": [
       "\"\\nnumeric_features = [feature for feature in df.columns if df[feature].dtype != 'O']\\n\\nplt.figure(figsize=(15,125))\\n\\nfor i, col in enumerate(numeric_features):\\n    plt.subplot(60, 3, i+1)\\n    sns.distplot(x=df[col], color = 'indianred')\\n    plt.xlabel(col, weight='bold')\\n    plt.tight_layout()\\n    \\n    \""
      ]
     },
     "execution_count": 18,
     "metadata": {},
     "output_type": "execute_result"
    }
   ],
   "source": [
    "'''\n",
    "numeric_features = [feature for feature in df.columns if df[feature].dtype != 'O']\n",
    "\n",
    "plt.figure(figsize=(15,125))\n",
    "\n",
    "for i, col in enumerate(numeric_features):\n",
    "    plt.subplot(60, 3, i+1)\n",
    "    sns.distplot(x=df[col], color = 'indianred')\n",
    "    plt.xlabel(col, weight='bold')\n",
    "    plt.tight_layout()\n",
    "    \n",
    "    '''"
   ]
  },
  {
   "cell_type": "markdown",
   "id": "c68faebd",
   "metadata": {},
   "source": [
    "**Report**\n",
    "- As per the above plot most of the features are not normally distributed.\n",
    "- Transformation of data is not of prime importance since it is a classification problem.\n",
    "- Interpreting each and every column is not necessary as this is sensor data."
   ]
  },
  {
   "cell_type": "markdown",
   "id": "c6a3559f",
   "metadata": {},
   "source": [
    "## Evaluate Model on Different experiments"
   ]
  },
  {
   "cell_type": "code",
   "execution_count": 19,
   "id": "200dd83d",
   "metadata": {},
   "outputs": [
    {
     "data": {
      "text/html": [
       "<div>\n",
       "<style scoped>\n",
       "    .dataframe tbody tr th:only-of-type {\n",
       "        vertical-align: middle;\n",
       "    }\n",
       "\n",
       "    .dataframe tbody tr th {\n",
       "        vertical-align: top;\n",
       "    }\n",
       "\n",
       "    .dataframe thead th {\n",
       "        text-align: right;\n",
       "    }\n",
       "</style>\n",
       "<table border=\"1\" class=\"dataframe\">\n",
       "  <thead>\n",
       "    <tr style=\"text-align: right;\">\n",
       "      <th></th>\n",
       "      <th>aa_000</th>\n",
       "      <th>ac_000</th>\n",
       "      <th>ad_000</th>\n",
       "      <th>ae_000</th>\n",
       "      <th>af_000</th>\n",
       "      <th>ag_000</th>\n",
       "      <th>ag_001</th>\n",
       "      <th>ag_002</th>\n",
       "      <th>ag_003</th>\n",
       "      <th>ag_004</th>\n",
       "      <th>...</th>\n",
       "      <th>ee_002</th>\n",
       "      <th>ee_003</th>\n",
       "      <th>ee_004</th>\n",
       "      <th>ee_005</th>\n",
       "      <th>ee_006</th>\n",
       "      <th>ee_007</th>\n",
       "      <th>ee_008</th>\n",
       "      <th>ee_009</th>\n",
       "      <th>ef_000</th>\n",
       "      <th>eg_000</th>\n",
       "    </tr>\n",
       "  </thead>\n",
       "  <tbody>\n",
       "    <tr>\n",
       "      <th>0</th>\n",
       "      <td>153204</td>\n",
       "      <td>1.820000e+02</td>\n",
       "      <td>NaN</td>\n",
       "      <td>0.0</td>\n",
       "      <td>0.0</td>\n",
       "      <td>0.0</td>\n",
       "      <td>0.0</td>\n",
       "      <td>0.0</td>\n",
       "      <td>11804.0</td>\n",
       "      <td>684444.0</td>\n",
       "      <td>...</td>\n",
       "      <td>129862.0</td>\n",
       "      <td>26872.0</td>\n",
       "      <td>34044.0</td>\n",
       "      <td>22472.0</td>\n",
       "      <td>34362.0</td>\n",
       "      <td>0.0</td>\n",
       "      <td>0.0</td>\n",
       "      <td>0.0</td>\n",
       "      <td>0.0</td>\n",
       "      <td>0.0</td>\n",
       "    </tr>\n",
       "    <tr>\n",
       "      <th>1</th>\n",
       "      <td>453236</td>\n",
       "      <td>2.926000e+03</td>\n",
       "      <td>NaN</td>\n",
       "      <td>0.0</td>\n",
       "      <td>0.0</td>\n",
       "      <td>0.0</td>\n",
       "      <td>0.0</td>\n",
       "      <td>222.0</td>\n",
       "      <td>323436.0</td>\n",
       "      <td>2999280.0</td>\n",
       "      <td>...</td>\n",
       "      <td>7908038.0</td>\n",
       "      <td>3026002.0</td>\n",
       "      <td>5025350.0</td>\n",
       "      <td>2025766.0</td>\n",
       "      <td>1160638.0</td>\n",
       "      <td>533834.0</td>\n",
       "      <td>493800.0</td>\n",
       "      <td>6914.0</td>\n",
       "      <td>0.0</td>\n",
       "      <td>0.0</td>\n",
       "    </tr>\n",
       "    <tr>\n",
       "      <th>2</th>\n",
       "      <td>72504</td>\n",
       "      <td>1.594000e+03</td>\n",
       "      <td>1052.0</td>\n",
       "      <td>0.0</td>\n",
       "      <td>0.0</td>\n",
       "      <td>0.0</td>\n",
       "      <td>244.0</td>\n",
       "      <td>178226.0</td>\n",
       "      <td>1249396.0</td>\n",
       "      <td>3813464.0</td>\n",
       "      <td>...</td>\n",
       "      <td>1432098.0</td>\n",
       "      <td>372252.0</td>\n",
       "      <td>527514.0</td>\n",
       "      <td>358274.0</td>\n",
       "      <td>332818.0</td>\n",
       "      <td>284178.0</td>\n",
       "      <td>3742.0</td>\n",
       "      <td>0.0</td>\n",
       "      <td>0.0</td>\n",
       "      <td>0.0</td>\n",
       "    </tr>\n",
       "    <tr>\n",
       "      <th>3</th>\n",
       "      <td>762958</td>\n",
       "      <td>NaN</td>\n",
       "      <td>NaN</td>\n",
       "      <td>NaN</td>\n",
       "      <td>NaN</td>\n",
       "      <td>776.0</td>\n",
       "      <td>281128.0</td>\n",
       "      <td>2186308.0</td>\n",
       "      <td>8123016.0</td>\n",
       "      <td>18022646.0</td>\n",
       "      <td>...</td>\n",
       "      <td>NaN</td>\n",
       "      <td>NaN</td>\n",
       "      <td>NaN</td>\n",
       "      <td>NaN</td>\n",
       "      <td>NaN</td>\n",
       "      <td>NaN</td>\n",
       "      <td>NaN</td>\n",
       "      <td>NaN</td>\n",
       "      <td>NaN</td>\n",
       "      <td>NaN</td>\n",
       "    </tr>\n",
       "    <tr>\n",
       "      <th>4</th>\n",
       "      <td>695994</td>\n",
       "      <td>NaN</td>\n",
       "      <td>NaN</td>\n",
       "      <td>NaN</td>\n",
       "      <td>NaN</td>\n",
       "      <td>0.0</td>\n",
       "      <td>0.0</td>\n",
       "      <td>0.0</td>\n",
       "      <td>55620.0</td>\n",
       "      <td>1190014.0</td>\n",
       "      <td>...</td>\n",
       "      <td>1397742.0</td>\n",
       "      <td>495544.0</td>\n",
       "      <td>361646.0</td>\n",
       "      <td>28610.0</td>\n",
       "      <td>5130.0</td>\n",
       "      <td>212.0</td>\n",
       "      <td>0.0</td>\n",
       "      <td>0.0</td>\n",
       "      <td>NaN</td>\n",
       "      <td>NaN</td>\n",
       "    </tr>\n",
       "    <tr>\n",
       "      <th>...</th>\n",
       "      <td>...</td>\n",
       "      <td>...</td>\n",
       "      <td>...</td>\n",
       "      <td>...</td>\n",
       "      <td>...</td>\n",
       "      <td>...</td>\n",
       "      <td>...</td>\n",
       "      <td>...</td>\n",
       "      <td>...</td>\n",
       "      <td>...</td>\n",
       "      <td>...</td>\n",
       "      <td>...</td>\n",
       "      <td>...</td>\n",
       "      <td>...</td>\n",
       "      <td>...</td>\n",
       "      <td>...</td>\n",
       "      <td>...</td>\n",
       "      <td>...</td>\n",
       "      <td>...</td>\n",
       "      <td>...</td>\n",
       "      <td>...</td>\n",
       "    </tr>\n",
       "    <tr>\n",
       "      <th>36183</th>\n",
       "      <td>153002</td>\n",
       "      <td>6.640000e+02</td>\n",
       "      <td>186.0</td>\n",
       "      <td>0.0</td>\n",
       "      <td>0.0</td>\n",
       "      <td>0.0</td>\n",
       "      <td>0.0</td>\n",
       "      <td>0.0</td>\n",
       "      <td>2564.0</td>\n",
       "      <td>59100.0</td>\n",
       "      <td>...</td>\n",
       "      <td>998500.0</td>\n",
       "      <td>566884.0</td>\n",
       "      <td>1290398.0</td>\n",
       "      <td>1218244.0</td>\n",
       "      <td>1019768.0</td>\n",
       "      <td>717762.0</td>\n",
       "      <td>898642.0</td>\n",
       "      <td>28588.0</td>\n",
       "      <td>0.0</td>\n",
       "      <td>0.0</td>\n",
       "    </tr>\n",
       "    <tr>\n",
       "      <th>36184</th>\n",
       "      <td>2286</td>\n",
       "      <td>2.130707e+09</td>\n",
       "      <td>224.0</td>\n",
       "      <td>0.0</td>\n",
       "      <td>0.0</td>\n",
       "      <td>0.0</td>\n",
       "      <td>0.0</td>\n",
       "      <td>0.0</td>\n",
       "      <td>0.0</td>\n",
       "      <td>104.0</td>\n",
       "      <td>...</td>\n",
       "      <td>10578.0</td>\n",
       "      <td>6760.0</td>\n",
       "      <td>21126.0</td>\n",
       "      <td>68424.0</td>\n",
       "      <td>136.0</td>\n",
       "      <td>0.0</td>\n",
       "      <td>0.0</td>\n",
       "      <td>0.0</td>\n",
       "      <td>0.0</td>\n",
       "      <td>0.0</td>\n",
       "    </tr>\n",
       "    <tr>\n",
       "      <th>36185</th>\n",
       "      <td>112</td>\n",
       "      <td>2.130706e+09</td>\n",
       "      <td>18.0</td>\n",
       "      <td>0.0</td>\n",
       "      <td>0.0</td>\n",
       "      <td>0.0</td>\n",
       "      <td>0.0</td>\n",
       "      <td>0.0</td>\n",
       "      <td>0.0</td>\n",
       "      <td>28.0</td>\n",
       "      <td>...</td>\n",
       "      <td>792.0</td>\n",
       "      <td>386.0</td>\n",
       "      <td>452.0</td>\n",
       "      <td>144.0</td>\n",
       "      <td>146.0</td>\n",
       "      <td>2622.0</td>\n",
       "      <td>0.0</td>\n",
       "      <td>0.0</td>\n",
       "      <td>0.0</td>\n",
       "      <td>0.0</td>\n",
       "    </tr>\n",
       "    <tr>\n",
       "      <th>36186</th>\n",
       "      <td>80292</td>\n",
       "      <td>2.130706e+09</td>\n",
       "      <td>494.0</td>\n",
       "      <td>0.0</td>\n",
       "      <td>0.0</td>\n",
       "      <td>0.0</td>\n",
       "      <td>0.0</td>\n",
       "      <td>0.0</td>\n",
       "      <td>0.0</td>\n",
       "      <td>330.0</td>\n",
       "      <td>...</td>\n",
       "      <td>699352.0</td>\n",
       "      <td>222654.0</td>\n",
       "      <td>347378.0</td>\n",
       "      <td>225724.0</td>\n",
       "      <td>194440.0</td>\n",
       "      <td>165070.0</td>\n",
       "      <td>802280.0</td>\n",
       "      <td>388422.0</td>\n",
       "      <td>0.0</td>\n",
       "      <td>0.0</td>\n",
       "    </tr>\n",
       "    <tr>\n",
       "      <th>36187</th>\n",
       "      <td>40222</td>\n",
       "      <td>6.980000e+02</td>\n",
       "      <td>628.0</td>\n",
       "      <td>0.0</td>\n",
       "      <td>0.0</td>\n",
       "      <td>0.0</td>\n",
       "      <td>0.0</td>\n",
       "      <td>0.0</td>\n",
       "      <td>0.0</td>\n",
       "      <td>1226.0</td>\n",
       "      <td>...</td>\n",
       "      <td>440066.0</td>\n",
       "      <td>183200.0</td>\n",
       "      <td>344546.0</td>\n",
       "      <td>254068.0</td>\n",
       "      <td>225148.0</td>\n",
       "      <td>158304.0</td>\n",
       "      <td>170384.0</td>\n",
       "      <td>158.0</td>\n",
       "      <td>0.0</td>\n",
       "      <td>0.0</td>\n",
       "    </tr>\n",
       "  </tbody>\n",
       "</table>\n",
       "<p>36188 rows × 163 columns</p>\n",
       "</div>"
      ],
      "text/plain": [
       "       aa_000        ac_000  ad_000  ae_000  af_000  ag_000    ag_001  \\\n",
       "0      153204  1.820000e+02     NaN     0.0     0.0     0.0       0.0   \n",
       "1      453236  2.926000e+03     NaN     0.0     0.0     0.0       0.0   \n",
       "2       72504  1.594000e+03  1052.0     0.0     0.0     0.0     244.0   \n",
       "3      762958           NaN     NaN     NaN     NaN   776.0  281128.0   \n",
       "4      695994           NaN     NaN     NaN     NaN     0.0       0.0   \n",
       "...       ...           ...     ...     ...     ...     ...       ...   \n",
       "36183  153002  6.640000e+02   186.0     0.0     0.0     0.0       0.0   \n",
       "36184    2286  2.130707e+09   224.0     0.0     0.0     0.0       0.0   \n",
       "36185     112  2.130706e+09    18.0     0.0     0.0     0.0       0.0   \n",
       "36186   80292  2.130706e+09   494.0     0.0     0.0     0.0       0.0   \n",
       "36187   40222  6.980000e+02   628.0     0.0     0.0     0.0       0.0   \n",
       "\n",
       "          ag_002     ag_003      ag_004  ...     ee_002     ee_003     ee_004  \\\n",
       "0            0.0    11804.0    684444.0  ...   129862.0    26872.0    34044.0   \n",
       "1          222.0   323436.0   2999280.0  ...  7908038.0  3026002.0  5025350.0   \n",
       "2       178226.0  1249396.0   3813464.0  ...  1432098.0   372252.0   527514.0   \n",
       "3      2186308.0  8123016.0  18022646.0  ...        NaN        NaN        NaN   \n",
       "4            0.0    55620.0   1190014.0  ...  1397742.0   495544.0   361646.0   \n",
       "...          ...        ...         ...  ...        ...        ...        ...   \n",
       "36183        0.0     2564.0     59100.0  ...   998500.0   566884.0  1290398.0   \n",
       "36184        0.0        0.0       104.0  ...    10578.0     6760.0    21126.0   \n",
       "36185        0.0        0.0        28.0  ...      792.0      386.0      452.0   \n",
       "36186        0.0        0.0       330.0  ...   699352.0   222654.0   347378.0   \n",
       "36187        0.0        0.0      1226.0  ...   440066.0   183200.0   344546.0   \n",
       "\n",
       "          ee_005     ee_006    ee_007    ee_008    ee_009  ef_000  eg_000  \n",
       "0        22472.0    34362.0       0.0       0.0       0.0     0.0     0.0  \n",
       "1      2025766.0  1160638.0  533834.0  493800.0    6914.0     0.0     0.0  \n",
       "2       358274.0   332818.0  284178.0    3742.0       0.0     0.0     0.0  \n",
       "3            NaN        NaN       NaN       NaN       NaN     NaN     NaN  \n",
       "4        28610.0     5130.0     212.0       0.0       0.0     NaN     NaN  \n",
       "...          ...        ...       ...       ...       ...     ...     ...  \n",
       "36183  1218244.0  1019768.0  717762.0  898642.0   28588.0     0.0     0.0  \n",
       "36184    68424.0      136.0       0.0       0.0       0.0     0.0     0.0  \n",
       "36185      144.0      146.0    2622.0       0.0       0.0     0.0     0.0  \n",
       "36186   225724.0   194440.0  165070.0  802280.0  388422.0     0.0     0.0  \n",
       "36187   254068.0   225148.0  158304.0  170384.0     158.0     0.0     0.0  \n",
       "\n",
       "[36188 rows x 163 columns]"
      ]
     },
     "execution_count": 19,
     "metadata": {},
     "output_type": "execute_result"
    }
   ],
   "source": [
    "# splitting X and Y for all Experiments\n",
    "\n",
    "X = df.drop('class', axis = 1)\n",
    "Y = df['class']\n",
    "X"
   ]
  },
  {
   "cell_type": "code",
   "execution_count": 20,
   "id": "cbf67b00",
   "metadata": {},
   "outputs": [
    {
     "data": {
      "text/plain": [
       "0        1\n",
       "1        1\n",
       "2        1\n",
       "3        1\n",
       "4        1\n",
       "        ..\n",
       "36183    0\n",
       "36184    0\n",
       "36185    0\n",
       "36186    0\n",
       "36187    0\n",
       "Name: class, Length: 36188, dtype: int64"
      ]
     },
     "execution_count": 20,
     "metadata": {},
     "output_type": "execute_result"
    }
   ],
   "source": [
    "# Manually mapping the target variable instad of performing LabelEncoder, One-hot encoding\n",
    "\n",
    "Y = Y.replace({'pos' : 1, 'neg' : 0})\n",
    "Y"
   ]
  },
  {
   "cell_type": "markdown",
   "id": "c58194d5",
   "metadata": {},
   "source": [
    "### Experiment: 1 = KNN Imputer for Null values"
   ]
  },
  {
   "cell_type": "markdown",
   "id": "d0bbee3e",
   "metadata": {},
   "source": [
    "**what is Robust scaler?**\n",
    "\n",
    "- The Robust Scaler is a data preprocessing technique used in machine learning to scale features (variables) so that they're centered around median and scaled according to the Interquartile Range (IQR).\n",
    "\n",
    "- This scaling method is robust to outliers in the data, meaning it can handle instances where outliers are present without skewing the scaling process significantly.\n",
    "\n",
    "-  The Robust Scaler subtracts the median value of each feature from the data. This ensures that the scaled data is centered around zero."
   ]
  },
  {
   "cell_type": "markdown",
   "id": "06e7f05b",
   "metadata": {},
   "source": [
    "**Why Robust scaler and not Standard scaler?**\n",
    "- Scaling the data using Robust scaler\n",
    "- Since most of the independent variables are not normally distributed we cannot use Standardscaler."
   ]
  },
  {
   "cell_type": "markdown",
   "id": "1f3355c5",
   "metadata": {},
   "source": [
    "**Why Robust Scaler and not Minmax?** \n",
    "- because most of the feature has outliers. So Minmax will scale data according to Max values which is outlier.\n",
    "- This Scaler removes the median and scales the data according to the quantile range (defaults to IQR: Interquartile Range). The IQR is the range between the 1st quartile (25th quantile) and the 3rd quartile (75th quantile)."
   ]
  },
  {
   "cell_type": "code",
   "execution_count": 21,
   "id": "94a37320",
   "metadata": {},
   "outputs": [],
   "source": [
    "# Fit the robust scaler for KNN best selection experiment\n",
    "\n",
    "robustscaler = RobustScaler()\n",
    "\n",
    "X1 = robustscaler.fit_transform(X)"
   ]
  },
  {
   "cell_type": "code",
   "execution_count": 22,
   "id": "fe65075e",
   "metadata": {},
   "outputs": [
    {
     "data": {
      "text/plain": [
       "array([[ 2.48316651e+00,  3.16455696e-02,             nan, ...,\n",
       "         0.00000000e+00,  0.00000000e+00,  0.00000000e+00],\n",
       "       [ 8.58106804e+00,  2.92616034e+00,             nan, ...,\n",
       "         3.42616452e+00,  0.00000000e+00,  0.00000000e+00],\n",
       "       [ 8.43005945e-01,  1.52109705e+00,  2.26470588e+00, ...,\n",
       "         0.00000000e+00,  0.00000000e+00,  0.00000000e+00],\n",
       "       ...,\n",
       "       [-6.28301407e-01,  2.24758046e+06, -2.69607843e-01, ...,\n",
       "         0.00000000e+00,  0.00000000e+00,  0.00000000e+00],\n",
       "       [ 1.00129058e+00,  2.24758046e+06,  8.97058824e-01, ...,\n",
       "         1.92478692e+02,  0.00000000e+00,  0.00000000e+00],\n",
       "       [ 1.86901072e-01,  5.75949367e-01,  1.22549020e+00, ...,\n",
       "         7.82953419e-02,  0.00000000e+00,  0.00000000e+00]])"
      ]
     },
     "execution_count": 22,
     "metadata": {},
     "output_type": "execute_result"
    }
   ],
   "source": [
    "X1"
   ]
  },
  {
   "cell_type": "markdown",
   "id": "41c1f839",
   "metadata": {},
   "source": [
    "**What is KNN Imputer?**\n",
    "\n",
    "- The KNN (K-Nearest Neighbors) imputer is a technique used to impute (fill in) missing values in a dataset by using the information from the dataset itself. \n",
    "\n",
    "- KNN imputation works by finding the k nearest neighbors for each observation with missing values and then averaging or taking a weighted average of those neighbors' values to impute the missing value.\n",
    "\n",
    "- KNNImputer helps to impute missing values present in the observations by finding the nearest neighbors with the Euclidean distance matrix.\n",
    "\n",
    "- Here we Iterates through different K values and get accuracy and choose best K values."
   ]
  },
  {
   "cell_type": "markdown",
   "id": "5d52aa38",
   "metadata": {},
   "source": [
    "#### Finding the optimal n_neighbour value for KNN imputer"
   ]
  },
  {
   "cell_type": "code",
   "execution_count": 23,
   "id": "8b38e588",
   "metadata": {},
   "outputs": [
    {
     "data": {
      "text/plain": [
       "\"\\nresults = []\\n\\n#define imputer\\nimputer = KNNImputer(n_neighbors= 5, weights = 'uniform', metric = 'nan_euclidean')\\n\\n# different values of parameter\\nstrategies = [str(i) for i in [1,3,5,7,9]]\\n\\nfor s in strategies:\\n    pipeline = Pipeline(steps = [('i', KNNImputer(n_neighbors=int(s))), ('m', LogisticRegression())])\\n    scores = cross_val_score(pipeline, X1, Y, scoring = 'accuracy', cv = 2, n_jobs=-1)\\n    results.append(scores)\\n    print('n_neighbors= %s || accuracy (%.4f)' % (s , mean(scores)))\\n    \\n\""
      ]
     },
     "execution_count": 23,
     "metadata": {},
     "output_type": "execute_result"
    }
   ],
   "source": [
    "\n",
    "'''\n",
    "results = []\n",
    "\n",
    "#define imputer\n",
    "imputer = KNNImputer(n_neighbors= 5, weights = 'uniform', metric = 'nan_euclidean')\n",
    "\n",
    "# different values of parameter\n",
    "strategies = [str(i) for i in [1,3,5,7,9]]\n",
    "\n",
    "for s in strategies:\n",
    "    pipeline = Pipeline(steps = [('i', KNNImputer(n_neighbors=int(s))), ('m', LogisticRegression())])\n",
    "    scores = cross_val_score(pipeline, X1, Y, scoring = 'accuracy', cv = 2, n_jobs=-1)\n",
    "    results.append(scores)\n",
    "    print('n_neighbors= %s || accuracy (%.4f)' % (s , mean(scores)))\n",
    "    \n",
    "'''"
   ]
  },
  {
   "cell_type": "markdown",
   "id": "7e31138c",
   "metadata": {},
   "source": [
    "**We can observe n_neighbors = 3 is able to produce the highest accuracy**"
   ]
  },
  {
   "cell_type": "markdown",
   "id": "bce0319b",
   "metadata": {},
   "source": [
    "### Pipeline for KNN Imputer"
   ]
  },
  {
   "cell_type": "code",
   "execution_count": 24,
   "id": "e2fdf7cf",
   "metadata": {},
   "outputs": [],
   "source": [
    "num_features = X.select_dtypes(exclude='object').columns\n",
    "\n",
    "# fit the KNN imputer with selected K-value\n",
    "knn_pipeline = Pipeline(steps=[\n",
    "    ('imputer', KNNImputer(n_neighbors=3)),\n",
    "    ('RobustScaler', RobustScaler())\n",
    "])"
   ]
  },
  {
   "cell_type": "code",
   "execution_count": 25,
   "id": "07311f56",
   "metadata": {},
   "outputs": [],
   "source": [
    "X_knn = knn_pipeline.fit_transform(X)"
   ]
  },
  {
   "cell_type": "code",
   "execution_count": null,
   "id": "0c816a28",
   "metadata": {},
   "outputs": [],
   "source": [
    "from imblearn.combine import SMOTETomek\n",
    "\n",
    "# Resampling the minority class. The strategy can be changed as required.\n",
    "smt = SMOTETomek(random_state=42,sampling_strategy='minority',n_jobs=-1)\n",
    "# Fit the model to generate the data.\n",
    "X_res, y_res = smt.fit_resample(X_knn, Y)"
   ]
  },
  {
   "cell_type": "markdown",
   "id": "cc997cf3",
   "metadata": {},
   "source": [
    "**handling The Imbalanced data**\n",
    "\n",
    " **SMOTE+TOMEK** is one of such a hybrid technique that aims to clean overlapping data points for each of the classes distributed in sample space.\n",
    " \n",
    " - This method combines the SMOTE ability to generate synthetic data for minority class and Tomek Links ability to remove the data that are identified as Tomek links from the majority class\n",
    " \n",
    " - To add new data of minority class\n",
    " 1. Choose random data from the minority class.\n",
    " 2. Calculate the distance between the random data and its k nearest neighbors.\n",
    " 3. Multiply the difference with a random number between 0 and 1, then add the result to the minority class as a synthetic sample.\n",
    " 4. Repeat step number 2–3 until the desired proportion of minority class is met.\n",
    " \n",
    " - To remove the tomek links of the majority class\n",
    " 1. Choose random data from the majority class.\n",
    " 2. If the random data’s nearest neighbor is the data from the minority class (i.e. create the Tomek Link), then remove the Tomek Link.\n",
    " \n",
    " - This is method instead of adding duplicate data it synthesises the new data based on the already avalialble classes. Hence we choose this as our imputer method for this problem."
   ]
  },
  {
   "cell_type": "code",
   "execution_count": null,
   "id": "96d2c87c",
   "metadata": {},
   "outputs": [],
   "source": []
  }
 ],
 "metadata": {
  "kernelspec": {
   "display_name": "Python 3 (ipykernel)",
   "language": "python",
   "name": "python3"
  },
  "language_info": {
   "codemirror_mode": {
    "name": "ipython",
    "version": 3
   },
   "file_extension": ".py",
   "mimetype": "text/x-python",
   "name": "python",
   "nbconvert_exporter": "python",
   "pygments_lexer": "ipython3",
   "version": "3.11.5"
  }
 },
 "nbformat": 4,
 "nbformat_minor": 5
}
